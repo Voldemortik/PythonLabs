{
 "cells": [
  {
   "cell_type": "markdown",
   "metadata": {},
   "source": [
    "#  Лабораторна робота №2\n",
    "### навчально-методичний додаток\n",
    "***"
   ]
  },
  {
   "cell_type": "markdown",
   "metadata": {
    "heading_collapsed": true
   },
   "source": [
    "## Завдання № 1 \"Навігація в Jupyter Notebook\"\n",
    "\n",
    "\n",
    "- Продивитись __User Interface Tour__\n",
    "- Відкрити [довідник команд](https://cheatography.com/weidadeyue/cheat-sheets/jupyter-notebook/pdf_bw/)\n",
    "- користуючись довідником виконати операції, які наведено в наступних рядках\n"
   ]
  },
  {
   "cell_type": "markdown",
   "metadata": {
    "hidden": true
   },
   "source": [
    "## Polishchuk"
   ]
  },
  {
   "cell_type": "markdown",
   "metadata": {
    "hidden": true
   },
   "source": [
    "### додати знизу пустий рядок"
   ]
  },
  {
   "cell_type": "code",
   "execution_count": null,
   "metadata": {},
   "outputs": [],
   "source": []
  },
  {
   "cell_type": "code",
   "execution_count": 10,
   "metadata": {},
   "outputs": [],
   "source": [
    "# Командний рядок"
   ]
  },
  {
   "cell_type": "code",
   "execution_count": 11,
   "metadata": {},
   "outputs": [],
   "source": [
    "# Рядок коментарів"
   ]
  },
  {
   "cell_type": "markdown",
   "metadata": {
    "hidden": true
   },
   "source": [
    "### Додати до цього рядка зверху 2 рядка:\n",
    "1. Командний рядок\n",
    "2. Рядок коментарів"
   ]
  },
  {
   "cell_type": "markdown",
   "metadata": {},
   "source": [
    "## Завдання №2 \" Конструкції Python\"\n",
    "- заповнити пусті рядки вашим рішенням"
   ]
  },
  {
   "cell_type": "markdown",
   "metadata": {
    "heading_collapsed": true
   },
   "source": [
    "### Змінні\n",
    "\n",
    "Ім'я, яке використовується для позначення чогось або значення, називається **змінною**. У python можна оголошувати змінні і присвоювати йому значення наступним чином:\n",
    "\n",
    "- x = 10             \n",
    "- y = -3.1428         \n",
    "- s = \"Вася Пупкін\"\n",
    "- a = [x, y, s]\n",
    "- b = False\n",
    "- t = (y, \"Студент\")\n",
    "\n",
    "---\n",
    "_[Прочитати про типи даних](http://ruslan.rv.ua/python-starter/module01/01-05_types/)_\n",
    "\n",
    "Тип даних можна перевірити наступною інструкцією: `type(<імя змінної>)`"
   ]
  },
  {
   "cell_type": "code",
   "execution_count": 21,
   "metadata": {
    "code_folding": [],
    "hidden": true,
    "run_control": {
     "marked": false
    },
    "scrolled": true
   },
   "outputs": [
    {
     "name": "stdout",
     "output_type": "stream",
     "text": [
      "<class 'int'>\n",
      "<class 'float'>\n",
      "<class 'str'>\n",
      "<class 'bool'>\n",
      "<class 'float'>\n"
     ]
    }
   ],
   "source": [
    "# виконайте присвоювання та виведіть типи даних x, y, s, b, t:\n",
    "print(type(x))\n",
    "print(type(y))\n",
    "print(type(s))\n",
    "print(type(b))\n",
    "print(type(t))"
   ]
  },
  {
   "cell_type": "markdown",
   "metadata": {
    "heading_collapsed": true
   },
   "source": [
    "### Опрератори\n",
    "\n",
    "#### арифметичні\n",
    "\n",
    "| Позначка | Виконує |\n",
    "|----|---|\n",
    "| +  | Додавання |\n",
    "| -  | Віднімання |\n",
    "| /  | поділ |\n",
    "| %  | остаток від ділення |\n",
    "| *  | множення |\n",
    "| //  | цілочісельне ділення |\n",
    "| **  | ступінь |"
   ]
  },
  {
   "cell_type": "code",
   "execution_count": 22,
   "metadata": {
    "hidden": true
   },
   "outputs": [
    {
     "name": "stdout",
     "output_type": "stream",
     "text": [
      "x + y = 6.857200000000001\n",
      "x - y = 13.1428\n",
      "x % y = -2.5711999999999993\n",
      "x / y = -3.1818760341097114\n",
      "x * y = -31.427999999999997\n",
      "x // y = -4.0\n",
      "x ** y = 0.0007197803728026997\n"
     ]
    }
   ],
   "source": [
    "# застосуйте вищенаведені оператори до `x` та `y`:\n",
    "\n",
    "print(\"x + y =\",x + y) \n",
    "print(\"x - y =\",x - y) \n",
    "print(\"x % y =\",x % y) \n",
    "print(\"x / y =\",x / y) \n",
    "print(\"x * y =\",x * y) \n",
    "print(\"x // y =\",x // y) \n",
    "print(\"x ** y =\",x ** y) "
   ]
  },
  {
   "cell_type": "markdown",
   "metadata": {
    "hidden": true
   },
   "source": [
    "#### порівняння\n",
    "| Позначка | Результат |\n",
    "|----|---|\n",
    "| == | True, якщо рівні |\n",
    "| !=  | True, якщо не рівні |\n",
    "| < | менше |\n",
    "| > | більше |\n",
    "| <=  | менше чи равно |\n",
    "| >=  | більше чи равно |"
   ]
  },
  {
   "cell_type": "code",
   "execution_count": 19,
   "metadata": {
    "hidden": true
   },
   "outputs": [
    {
     "name": "stdout",
     "output_type": "stream",
     "text": [
      "x == y = False\n",
      "x != y = True\n",
      "x < y = False\n",
      "x > y = True\n",
      "x <= y = False\n",
      "x >= y = True\n"
     ]
    }
   ],
   "source": [
    "# застосуйте вищенаведені оператори до `x` та `y`:\n",
    "print(\"x == y =\",x == y) \n",
    "print(\"x != y =\",x != y) \n",
    "print(\"x < y =\",x < y) \n",
    "print(\"x > y =\",x > y) \n",
    "print(\"x <= y =\",x <= y) \n",
    "print(\"x >= y =\",x >= y) "
   ]
  },
  {
   "cell_type": "markdown",
   "metadata": {
    "heading_collapsed": true
   },
   "source": [
    "### Вбудовані функції перетворення типів\n",
    "1. str(<змінна чи вираз>) - перетворення в строку\n",
    "2. int(<змінна чи вираз>) - перетворення в ціле\n",
    "3. float(<змінна чи вираз>) - перетворення в дийсне число\n",
    "\n",
    "[Прочитати про інші функції перетворення типів](https://pyneng.readthedocs.io/ru/latest/book/04_data_structures/convert_type.html)\n"
   ]
  },
  {
   "cell_type": "code",
   "execution_count": 31,
   "metadata": {
    "hidden": true
   },
   "outputs": [
    {
     "data": {
      "text/plain": [
       "-3.1428"
      ]
     },
     "execution_count": 31,
     "metadata": {},
     "output_type": "execute_result"
    }
   ],
   "source": [
    "# застосуйте (1) функцію до змінних 'x' - 't' , (2) до `x` - 's', (3) - `x` - `y`\n",
    "# (якщо будуть помилки - виправте їх самотуж)\n",
    "\n",
    "str(x)\n",
    "str(y)\n",
    "str(s)\n",
    "str(b)\n",
    "str(t)\n",
    "\n",
    "int(x)\n",
    "int(y)\n",
    "\n",
    "float(x)\n",
    "float(y)"
   ]
  },
  {
   "cell_type": "markdown",
   "metadata": {
    "heading_collapsed": true
   },
   "source": [
    "## Завдання №3 \"Введення/вивід з консолі\"\n"
   ]
  },
  {
   "cell_type": "markdown",
   "metadata": {
    "hidden": true
   },
   "source": [
    "- __input__([символьний вираз]) - введення с консолі в _символьному форматі_ (__STDIN__) \n",
    "- __print__(<вираз>) - виведення в консоль (__STDOUT__)\n",
    "\n",
    "Для зчитування рядка зі стандартного вводу використовується функція input (), яка зчитує рядок з клавіатури і повертає значення, яке відразу ж можна привласнити змінним:\n",
    "`s = input()`\n",
    "\n",
    "Функція `input` повертає текстовий рядок. Якщо потрібно зробити так, щоб змінні мали чисельні значення, то відразу ж після зчитування виконаємо перетворення типів за допомогою функції `int` або `float`, і запишемо нове значення:\n",
    "`s1 = int(s)`\n",
    "\n",
    "Краще об'єднати зчитування рядків і перетворення типів, якщо викликати функцію int/float для того значення, яке поверне функція input ():\n",
    "`s = int(input())`"
   ]
  },
  {
   "cell_type": "code",
   "execution_count": 32,
   "metadata": {
    "hidden": true
   },
   "outputs": [
    {
     "name": "stdout",
     "output_type": "stream",
     "text": [
      "2.71\n"
     ]
    }
   ],
   "source": [
    "# ввести з консолі число 2.71 в змінну 'e'\n",
    "е = float(input())"
   ]
  },
  {
   "cell_type": "code",
   "execution_count": 37,
   "metadata": {
    "hidden": true
   },
   "outputs": [
    {
     "name": "stdout",
     "output_type": "stream",
     "text": [
      "146.1660310351\n"
     ]
    }
   ],
   "source": [
    "# вивести в консоль 'е' в супені 5\n",
    "print(e**5)"
   ]
  },
  {
   "cell_type": "markdown",
   "metadata": {
    "hidden": true
   },
   "source": [
    "#### форматування  при виведенні\n",
    "у Python для позначення рядка використовуються одинарні, подвійні та потрійні лапки. Більшість використовують одинарні лапки при оголошенні одного символу. Подвійні лапки при оголошенні рядка та потрійні лапки при оголошенні абзацу / кількох рядків.\n",
    "\n",
    "- 'A' - одиночний символ\n",
    "- \"Студент Вася\" - рядок символів\n",
    "- \"\"\" Перший рядок \n",
    "    \n",
    "      Другий рядок\n",
    "      \n",
    "      ...\"\"\"\n"
   ]
  },
  {
   "cell_type": "code",
   "execution_count": 38,
   "metadata": {
    "hidden": true
   },
   "outputs": [
    {
     "name": "stdout",
     "output_type": "stream",
     "text": [
      "Вася Пупкін\n",
      "1+1 -> 2\n"
     ]
    }
   ],
   "source": [
    "# Рядки можуть бути призначені змінним наприкалд `name` та `surname`, \n",
    "# які можна викликати при використанні оператора print.\n",
    "# Виконайте код, який наведено нижче\n",
    "name = \"Вася\"\n",
    "surname = \"Пупкін\"\n",
    "print (name, surname)\n",
    "print(\"1+1\", 2, sep=\" -> \")"
   ]
  },
  {
   "cell_type": "markdown",
   "metadata": {
    "hidden": true
   },
   "source": [
    "Напишіть нижче, для чого нужна '`,`' та `sep` в функції `print()`:\n",
    "\n",
    "Sep це параметр в python, який в основному форматує друковані оператори на екрані виведення.\n",
    "Кома слугуе для додавання об'єктів, що потрібно вивести"
   ]
  },
  {
   "cell_type": "markdown",
   "metadata": {
    "hidden": true
   },
   "source": [
    "### форматування в функції `print()`\n",
    "\n",
    "[Прочитати про методи форматування вивода](https://webdevblog.ru/f-stroki-python-3-uluchshennyj-sintaksis-formatirovaniya-strok/)"
   ]
  },
  {
   "cell_type": "code",
   "execution_count": 39,
   "metadata": {
    "hidden": true,
    "run_control": {
     "marked": false
    }
   },
   "outputs": [
    {
     "name": "stdout",
     "output_type": "stream",
     "text": [
      "Вася Пупкін - це студент\n",
      "Результат буде = 12.4\n",
      "Вася - True хлопець!\n",
      "Пупкін Вася\n"
     ]
    }
   ],
   "source": [
    "# виконати код та розібратись, чому функція `print()...format` спрацювала таким чином\n",
    "print(\"{} {} - це студент\".format(name, surname))\n",
    "print(\"Результат буде = {}\".format(42 / 5 + 4))\n",
    "b = True\n",
    "print(\"{} - {} хлопець!\".format(name, b))\n",
    "print(\"{} {}\".format(surname, name))"
   ]
  },
  {
   "cell_type": "markdown",
   "metadata": {},
   "source": [
    "## Завдання №4 \"Керування обчисленнями\""
   ]
  },
  {
   "cell_type": "markdown",
   "metadata": {
    "run_control": {
     "marked": false
    }
   },
   "source": [
    "### Умовний оператор if / if-else / if-elif"
   ]
  },
  {
   "cell_type": "markdown",
   "metadata": {},
   "source": [
    "`if <логічний вираз(умова)> :\n",
    "  <код>`\n",
    "  \n",
    "`if <логічний вираз(умова)> :\n",
    "  <код>\n",
    " else :\n",
    "    <код>`\n",
    "\n",
    "`if <логічний вираз(умова)> :\n",
    "  <код>\n",
    " elif <логічний вираз_1(умова)> :\n",
    "  <код>\n",
    " elif <логічний вираз_2(умова)> :\n",
    "  <код>\n",
    "... \n",
    " [else] :\n",
    "   <код>`"
   ]
  },
  {
   "cell_type": "code",
   "execution_count": 46,
   "metadata": {},
   "outputs": [
    {
     "name": "stdout",
     "output_type": "stream",
     "text": [
      "Введи x: 31.5\n",
      "31.5\n",
      "992.25\n",
      "31.5\n"
     ]
    }
   ],
   "source": [
    "x = float(input(\"Введи x: \"))\n",
    "\n",
    "# ----- 1 ----------\n",
    "if x > 5:\n",
    "    print (x)\n",
    "    \n",
    "# ----- 2 ----------    \n",
    "if -5 < x < 5 :\n",
    "    print (x)\n",
    "else:\n",
    "    print (x ** 2)\n",
    "    \n",
    "# ----- 3 ----------\n",
    "if x > -5:\n",
    "    print (x)\n",
    "elif -5 < x < 5:\n",
    "    print (x ** 2)\n",
    "elif x > 5:\n",
    "    print (x ** (1/2))"
   ]
  },
  {
   "cell_type": "markdown",
   "metadata": {},
   "source": [
    "напишіть, який __if__ спрацював при:\n",
    "\n",
    "x = -20     2\n",
    "\n",
    "x = 31.5    1 2 3\n",
    "\n",
    "x = 4       2 3"
   ]
  },
  {
   "cell_type": "code",
   "execution_count": 51,
   "metadata": {},
   "outputs": [
    {
     "name": "stdout",
     "output_type": "stream",
     "text": [
      "Введи x: 18\n",
      "студент\n"
     ]
    }
   ],
   "source": [
    "# напишить нижче код, який виводить слово 'студент', 'школяр' або 'малятко' \n",
    "# в залежності від введенного через консоль віку\n",
    "x = float(input(\"Введи x: \"))\n",
    "\n",
    "# ----- малятко ----------\n",
    "if 0 < x <= 6:\n",
    "    print ('малятко')\n",
    "    # ----- школяр ----------\n",
    "if 6 < x <= 17:\n",
    "    print ('школяр')\n",
    "    # ----- студент ----------\n",
    "if x > 17:\n",
    "    print ('студент')"
   ]
  },
  {
   "cell_type": "markdown",
   "metadata": {},
   "source": [
    "### Цикли"
   ]
  },
  {
   "cell_type": "markdown",
   "metadata": {},
   "source": [
    "#### for\n",
    "\n",
    "`for <змінна> in <перераховуємий об'єкт>\n",
    "    код`\n",
    "    \n",
    "    \n",
    "__перераховуємий об'єкт__ - це об'єкт, який складається із декількох послідовних складових (чисел, строк та ін.)\n",
    "\n",
    "- 1, 13, -10, 321\n",
    "- \"Вася\", \"Пупкін\", \"студент\"\n",
    "- \"Вася\", -10.1, True\n",
    "\n",
    "[Прочитати про функцію `range`](https://python-scripts.com/range)"
   ]
  },
  {
   "cell_type": "code",
   "execution_count": 52,
   "metadata": {},
   "outputs": [
    {
     "name": "stdout",
     "output_type": "stream",
     "text": [
      "-1\n",
      "-3\n",
      "-5\n",
      "-7\n",
      "-9\n"
     ]
    }
   ],
   "source": [
    "# приклад цикла з 'for' та 'if'\n",
    "for i in range(10):\n",
    "    if i % 2 != 0:\n",
    "        print (-i)\n",
    "    else:\n",
    "        pass"
   ]
  },
  {
   "cell_type": "markdown",
   "metadata": {},
   "source": [
    "### напишить своїми словами, що виконує наведений вище код\n",
    "\n",
    "проходимося по циклу від 0 до 10 \n",
    "якщо остаток від ділення не дорівнює 0, то виводимо число на даній ітераціії зі знаком мінус, інакше переходимо до наступної ітерації"
   ]
  },
  {
   "cell_type": "code",
   "execution_count": 53,
   "metadata": {},
   "outputs": [
    {
     "name": "stdout",
     "output_type": "stream",
     "text": [
      "12\n",
      "15\n",
      "18\n",
      "21\n",
      "24\n",
      "27\n",
      "30\n",
      "33\n",
      "36\n",
      "39\n",
      "42\n",
      "45\n",
      "48\n",
      "51\n",
      "54\n",
      "57\n",
      "60\n",
      "63\n",
      "66\n",
      "69\n",
      "72\n",
      "75\n",
      "78\n",
      "81\n",
      "84\n",
      "87\n",
      "90\n",
      "93\n",
      "96\n",
      "99\n"
     ]
    }
   ],
   "source": [
    "# напишіть нижче код, який сумує числа, які діляться без остатка на 3 \n",
    "# в інтервалі від 10 до 100\n",
    "for i in range(10,100):\n",
    "    if i % 3 == 0:\n",
    "        print (i)\n",
    "    else:\n",
    "        pass"
   ]
  },
  {
   "cell_type": "markdown",
   "metadata": {},
   "source": [
    "#### while\n",
    "\n",
    "[прочитати про цикл while](https://pythontutor.ru/lessons/while/)"
   ]
  },
  {
   "cell_type": "code",
   "execution_count": 54,
   "metadata": {},
   "outputs": [
    {
     "name": "stdout",
     "output_type": "stream",
     "text": [
      "тисни тут: \n",
      "було введено\n",
      "тисни тут: \n",
      "було введено\n",
      "тисни тут: \n",
      "було введено\n",
      "тисни тут: \n",
      "було введено\n",
      "тисни тут: \n",
      "було введено\n",
      "тисни тут: \n",
      "було введено\n",
      "тисни тут: 0\n"
     ]
    }
   ],
   "source": [
    "# запустіть цей код \n",
    "while(input(\"тисни тут: \") != '0'):\n",
    "    print (\"було введено\")"
   ]
  },
  {
   "cell_type": "markdown",
   "metadata": {},
   "source": [
    "поясніть своїми словами, що виконує наведений вище код\n",
    "\n",
    "поки введене значеня не буде дорівнювати 0 не буде відбуватися завершення циклу"
   ]
  },
  {
   "cell_type": "code",
   "execution_count": null,
   "metadata": {},
   "outputs": [],
   "source": [
    "# використовуючи 'while`напишіть нижче код, який сумує числа, \n",
    "# які діляться без залишка на 3 в інтервалі від 10 до 100\n",
    "x = 10\n",
    "while(x<100):\n",
    "    if x % 3 == 0:\n",
    "        print (x)\n",
    "    x = x + 1"
   ]
  }
 ],
 "metadata": {
  "celltoolbar": "Raw Cell Format",
  "kernelspec": {
   "display_name": "Python 3 (ipykernel)",
   "language": "python",
   "name": "python3"
  },
  "language_info": {
   "codemirror_mode": {
    "name": "ipython",
    "version": 3
   },
   "file_extension": ".py",
   "mimetype": "text/x-python",
   "name": "python",
   "nbconvert_exporter": "python",
   "pygments_lexer": "ipython3",
   "version": "3.10.4"
  }
 },
 "nbformat": 4,
 "nbformat_minor": 2
}
